{
 "cells": [
  {
   "cell_type": "code",
   "execution_count": 1,
   "metadata": {},
   "outputs": [
    {
     "name": "stdout",
     "output_type": "stream",
     "text": [
      "INSERT INTO record VALUES (id, 0.02, 26.5, '-28.373133,129.210636', 28, 148, '2024-06-24 09:33:56', 3);\n",
      "INSERT INTO record VALUES (id, 0.03, 34.39, '48.205022,157.172399', 92, 279, '2024-06-21 17:35:56', 1);\n",
      "INSERT INTO record VALUES (id, 0.0, 1.74, '-61.015904,-91.67893', 84, 259, '2024-06-20 01:46:56', 1);\n",
      "INSERT INTO record VALUES (id, 0.19, 22.57, '50.766534,114.406963', 45, 322, '2024-06-22 08:29:56', 3);\n",
      "INSERT INTO record VALUES (id, 0.07, 10.61, '26.227764,113.55683', 11, 198, '2024-06-19 07:23:56', 3);\n",
      "INSERT INTO record VALUES (id, 0.16, 14.53, '-57.253477,-104.379588', 86, 255, '2024-06-23 09:49:56', 3);\n",
      "INSERT INTO record VALUES (id, 0.07, 10.2, '83.29217,-137.315012', 115, 259, '2024-06-22 08:30:56', 3);\n",
      "INSERT INTO record VALUES (id, 0.1, 12.45, '-67.323912,-56.135951', 92, 311, '2024-06-25 19:48:56', 3);\n",
      "INSERT INTO record VALUES (id, 0.12, 25.14, '-21.294339,-97.24634', 112, 118, '2024-06-24 12:46:56', 2);\n",
      "INSERT INTO record VALUES (id, 0.12, 32.58, '29.367808,-127.78332', 72, 107, '2024-06-19 08:41:56', 1);\n",
      "INSERT INTO record VALUES (id, 0.11, 9.7, '-70.024047,-124.098688', 108, 105, '2024-06-24 13:58:56', 4);\n",
      "INSERT INTO record VALUES (id, 0.07, 24.33, '37.557848,-63.590973', 74, 96, '2024-06-21 03:14:56', 4);\n",
      "INSERT INTO record VALUES (id, 0.11, 34.52, '-25.589775,33.597944', 9, 195, '2024-06-23 00:27:56', 2);\n",
      "INSERT INTO record VALUES (id, 0.11, 30.17, '88.532435,-142.782327', 117, 154, '2024-06-25 20:09:56', 1);\n",
      "INSERT INTO record VALUES (id, 0.02, 34.21, '84.808204,174.959979', 70, 277, '2024-06-24 11:59:56', 4);\n",
      "INSERT INTO record VALUES (id, 0.09, 13.09, '-49.522729,-50.945163', 49, 318, '2024-06-22 18:34:56', 3);\n",
      "INSERT INTO record VALUES (id, 0.02, 5.81, '-44.424895,56.452872', 15, 118, '2024-06-23 02:58:56', 2);\n",
      "INSERT INTO record VALUES (id, 0.11, 6.74, '-59.311505,-144.200478', 12, 101, '2024-06-21 13:36:56', 2);\n",
      "INSERT INTO record VALUES (id, 0.03, 3.18, '-3.518408,-95.061601', 55, 132, '2024-06-24 22:49:56', 2);\n",
      "INSERT INTO record VALUES (id, 0.2, 27.44, '84.344681,-60.254612', 6, 45, '2024-06-19 05:06:56', 1);\n"
     ]
    }
   ],
   "source": [
    "import random\n",
    "import datetime\n",
    "\n",
    "# Function to generate random data for the 'user' table\n",
    "def generate_user_data(num_records):\n",
    "    data = []\n",
    "    for _ in range(num_records):\n",
    "        id = \"id\"\n",
    "        alcohol_concentration = round(random.uniform(0, 0.2), 2)  # Example range\n",
    "        temperature = round(random.uniform(0.0, 40.0), 2)  # Example range\n",
    "        latitude = round(random.uniform(-90.0, 90.0), 6)\n",
    "        longitude = round(random.uniform(-180.0, 180.0), 6)\n",
    "        coordinate = f\"{latitude},{longitude}\"\n",
    "        speed = random.randint(0, 120)  # Example range\n",
    "        heading = random.randint(0, 360)  # Heading range from 0 to 360 degrees\n",
    "        datetime_value = (datetime.datetime.now() - datetime.timedelta(minutes=random.randint(0, 10000))).strftime('%Y-%m-%d %H:%M:%S')  # Random datetime within the last ~7 days\n",
    "        userID = random.randint(1, 4)\n",
    "        data.append((id, alcohol_concentration, temperature, coordinate, speed, heading, datetime_value, userID))\n",
    "    return data\n",
    "\n",
    "# Generate 100 records\n",
    "user_data = generate_user_data(20)\n",
    "\n",
    "for record in user_data:\n",
    "    print(f\"INSERT INTO record VALUES ({record[0]}, {record[1]}, {record[2]}, '{record[3]}', {record[4]}, {record[5]}, '{record[6]}', {record[7]});\")\n"
   ]
  }
 ],
 "metadata": {
  "kernelspec": {
   "display_name": "Python 3",
   "language": "python",
   "name": "python3"
  },
  "language_info": {
   "codemirror_mode": {
    "name": "ipython",
    "version": 3
   },
   "file_extension": ".py",
   "mimetype": "text/x-python",
   "name": "python",
   "nbconvert_exporter": "python",
   "pygments_lexer": "ipython3",
   "version": "3.10.1"
  }
 },
 "nbformat": 4,
 "nbformat_minor": 2
}
